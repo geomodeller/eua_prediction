{
 "cells": [
  {
   "cell_type": "code",
   "execution_count": 169,
   "metadata": {},
   "outputs": [],
   "source": [
    "# to include packages\n",
    "import pandas as pd\n",
    "import numpy as np\n",
    "from datetime import datetime"
   ]
  },
  {
   "cell_type": "code",
   "execution_count": 46,
   "metadata": {},
   "outputs": [],
   "source": [
    "eua_daily = pd.read_csv('original_data/EUA_daily.csv')\n",
    "eua_daily.dropna(inplace=True)\n",
    "eua_daily['volume'] = eua_daily['volume'].astype('str').apply(lambda x: float(x[:-1])*1000)\n",
    "eua_daily['Market_size'] = eua_daily['volume']*eua_daily['price']"
   ]
  },
  {
   "cell_type": "code",
   "execution_count": 48,
   "metadata": {},
   "outputs": [],
   "source": [
    "eua_daily[['date','price','Market_size']]\n",
    "eua_daily.to_csv('daily_eua.csv',index=False)"
   ]
  },
  {
   "cell_type": "code",
   "execution_count": 49,
   "metadata": {},
   "outputs": [],
   "source": [
    "df = pd.read_csv('original_data/Concentration_daily.csv')\n",
    "lst_of_col = ['IR', 'Oil', 'Coal',  'NG', 'USEU',   'S&P_clean', 'DAX',  'GDP', 'Power',  ]"
   ]
  },
  {
   "cell_type": "code",
   "execution_count": 69,
   "metadata": {},
   "outputs": [],
   "source": [
    "df_dict = {}\n",
    "for col in lst_of_col:\n",
    "    col_num = np.where(df.columns == col)[0][0]\n",
    "    col_date_num = col_num - 1\n",
    "    df_temp = df.iloc[:, col_date_num:col_num+1]\n",
    "    df_temp.dropna(inplace=True)\n",
    "    \n",
    "    if col == 'IR':\n",
    "        df_temp.rename(columns = {df_temp.columns[0]:'date', df_temp.columns[1]:'value'}, inplace=True)\n",
    "        df_temp.to_csv(f'processed_data/daily_all_{col}.csv', index = False)\n",
    "    elif col in ['Oil', 'Coal',  'NG', 'USEU',   'S&P_clean', 'DAX',]:\n",
    "        df_temp.rename(columns = {df_temp.columns[0]:'date', df_temp.columns[1]:'value'}, inplace=True)\n",
    "        df_temp.to_csv(f'processed_data/daily_{col}.csv', index = False)\n",
    "    elif col in ['GDP', 'Power']:\n",
    "        df_temp.rename(columns = {df_temp.columns[0]:'quarter', df_temp.columns[1]:'value'}, inplace=True)\n",
    "        df_temp.to_csv(f'processed_data/quarterly_{col}.csv', index = False)\n",
    "    df_dict[col] = df_temp"
   ]
  },
  {
   "cell_type": "code",
   "execution_count": 72,
   "metadata": {},
   "outputs": [],
   "source": [
    "df_dict['EUA'] = eua_daily[['date','price']]\n",
    "df_dict['Market_size'] = eua_daily[['date','Market_size']]"
   ]
  },
  {
   "cell_type": "code",
   "execution_count": 74,
   "metadata": {},
   "outputs": [],
   "source": [
    "# import pickle\n",
    "\n",
    "# # Save to a pickle file\n",
    "# with open('processed_data/concatenate_data.pkl', 'wb') as pickle_file:\n",
    "#     pickle.dump(df_dict, pickle_file)\n",
    "\n",
    "## TODO: this is how to call the saved dictionary\n",
    "# with open('processed_data/concatenate_data.pkl', 'rb') as pickle_file:\n",
    "#     df_dict = pickle.load(pickle_file)\n",
    "\n",
    "# print(loaded_data)"
   ]
  },
  {
   "cell_type": "code",
   "execution_count": 151,
   "metadata": {},
   "outputs": [],
   "source": [
    "lst_of_col = ['IR', 'Oil', 'Coal',  'NG', 'USEU',   'S&P_clean', 'DAX',  'GDP', 'Power', 'EUA', 'Market_size']\n",
    "df_all = df_dict['IR'].rename(columns = {'date': 'date', 'value': 'IR'})\n",
    "\n",
    "for col in ['Oil', 'Coal',  'NG', 'USEU',   'S&P_clean', 'DAX', ]:\n",
    "    df_temp = df_dict[col].rename(columns = {'date': 'date', 'value': col})\n",
    "    df_all = pd.merge(left = df_all, right = df_temp, on = 'date', how = 'left')\n",
    "    \n",
    "df_temp = df_dict['EUA'].rename(columns = {'date': 'date', 'price': 'EUA'})\n",
    "df_all = pd.merge(left = df_all, right = df_temp, on = 'date', how = 'left')\n",
    "df_temp = df_dict['Market_size']\n",
    "df_all = pd.merge(left = df_all, right = df_temp, on = 'date', how = 'left')"
   ]
  },
  {
   "cell_type": "code",
   "execution_count": null,
   "metadata": {},
   "outputs": [],
   "source": [
    "df_all.head()"
   ]
  },
  {
   "cell_type": "code",
   "execution_count": 153,
   "metadata": {},
   "outputs": [],
   "source": [
    "quarter_mapping = {\n",
    "    'Q1': '1',  # January\n",
    "    'Q2': '4',  # April\n",
    "    'Q3': '7',  # July\n",
    "    'Q4': '10'   # October\n",
    "}\n",
    "def convert_quarter(quarter):\n",
    "    q, year = quarter.split()\n",
    "    month = quarter_mapping[q]\n",
    "    return f\"{month}/1/{year}\" #10/7/2024"
   ]
  },
  {
   "cell_type": "code",
   "execution_count": 154,
   "metadata": {},
   "outputs": [],
   "source": [
    "df_temp = df_dict['Power'].copy()\n",
    "df_temp['quarter'] = df_temp['quarter'].apply(convert_quarter)\n",
    "df_temp = df_temp.rename(columns = {'quarter':'date', 'value':'Power'})\n",
    "df_all = pd.merge(left = df_all, right = df_temp, on='date', how = 'left')"
   ]
  },
  {
   "cell_type": "code",
   "execution_count": 158,
   "metadata": {},
   "outputs": [],
   "source": [
    "df_temp = df_dict['GDP'].copy()\n",
    "df_temp = df_temp.rename(columns = {'quarter':'date', 'value':'GDP'})\n",
    "df_all = pd.merge(left = df_all, right = df_temp, on='date', how = 'left')"
   ]
  },
  {
   "cell_type": "code",
   "execution_count": null,
   "metadata": {},
   "outputs": [],
   "source": [
    "df_all[['Power', 'GDP']] = df_all[['Power', 'GDP']].fillna(method = 'bfill')\n"
   ]
  },
  {
   "cell_type": "code",
   "execution_count": 179,
   "metadata": {},
   "outputs": [],
   "source": [
    "from datetime import datetime\n",
    "first_day = datetime.strptime( '1/12/2012', '%m/%d/%Y')"
   ]
  },
  {
   "cell_type": "code",
   "execution_count": null,
   "metadata": {},
   "outputs": [],
   "source": [
    "df_all['Date'] = pd.to_datetime(df_all['date'], format = r'%m/%d/%Y')\n",
    "df_all.tail(15)"
   ]
  },
  {
   "cell_type": "code",
   "execution_count": 183,
   "metadata": {},
   "outputs": [],
   "source": [
    "df_all_cropped = df_all[df_all['Date']>=first_day].copy()"
   ]
  },
  {
   "cell_type": "code",
   "execution_count": null,
   "metadata": {},
   "outputs": [],
   "source": [
    "df_all_cropped.fillna(method='bfill', inplace = True)\n",
    "df_all_cropped"
   ]
  },
  {
   "cell_type": "code",
   "execution_count": 186,
   "metadata": {},
   "outputs": [],
   "source": [
    "df_all_cropped.to_csv('concatenate_data.csv', index=False)"
   ]
  }
 ],
 "metadata": {
  "kernelspec": {
   "display_name": "Python 3",
   "language": "python",
   "name": "python3"
  },
  "language_info": {
   "codemirror_mode": {
    "name": "ipython",
    "version": 3
   },
   "file_extension": ".py",
   "mimetype": "text/x-python",
   "name": "python",
   "nbconvert_exporter": "python",
   "pygments_lexer": "ipython3",
   "version": "3.11.2"
  }
 },
 "nbformat": 4,
 "nbformat_minor": 2
}
