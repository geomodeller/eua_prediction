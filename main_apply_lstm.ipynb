{
 "cells": [
  {
   "cell_type": "code",
   "execution_count": 1,
   "metadata": {},
   "outputs": [],
   "source": [
    "import numpy as np\n",
    "import pandas as pd\n",
    "\n",
    "import tensorflow as tf\n",
    "from tensorflow.keras.models import Sequential\n",
    "from tensorflow.keras.optimizers import Adam\n",
    "from tensorflow.keras.regularizers import l2\n",
    "from tensorflow.keras.callbacks import ModelCheckpoint\n",
    "from keras.callbacks import EarlyStopping\n",
    "from tensorflow.keras.layers import LSTM, Dense, BatchNormalization, Dropout\n",
    "\n",
    "import matplotlib.pyplot as plt\n",
    "from sklearn.preprocessing import StandardScaler, MinMaxScaler"
   ]
  },
  {
   "cell_type": "code",
   "execution_count": 2,
   "metadata": {},
   "outputs": [],
   "source": [
    "df_all = pd.read_csv('concatenate_data.csv', thousands=',') # 콤마 제거\n",
    "\n",
    "df_all['date'] = pd.to_datetime(df_all['date'], format='%m/%d/%Y')  # 날짜 형식 변환\n",
    "df_all = df_all.sort_values(by = 'date', ascending=True)\n",
    "df_all = df_all.iloc[-3568:]\n",
    "\n",
    "\n",
    "X_lst = ['EUA', 'Coal', 'USEU', 'Oil', 'Market_Size', 'NG', 'IR', 'Power', 'GDP', 'S&P_clean', 'DAX']\n",
    "df = df_all[X_lst]\n",
    "\n",
    "original_EUA = df['EUA'].values  # 원본 EUA 데이터 저장\n",
    "data = df.values[:, :11]  # ['EUA', 'Coal', 'USEU', 'Oil', 'Market_Size', 'NG', 'IR', 'Power', 'GDP', 'S&P_clean', 'DAX']\n",
    "dates = df_all['date'].values"
   ]
  },
  {
   "cell_type": "code",
   "execution_count": 3,
   "metadata": {},
   "outputs": [
    {
     "data": {
      "text/html": [
       "<div>\n",
       "<style scoped>\n",
       "    .dataframe tbody tr th:only-of-type {\n",
       "        vertical-align: middle;\n",
       "    }\n",
       "\n",
       "    .dataframe tbody tr th {\n",
       "        vertical-align: top;\n",
       "    }\n",
       "\n",
       "    .dataframe thead th {\n",
       "        text-align: right;\n",
       "    }\n",
       "</style>\n",
       "<table border=\"1\" class=\"dataframe\">\n",
       "  <thead>\n",
       "    <tr style=\"text-align: right;\">\n",
       "      <th></th>\n",
       "      <th>date</th>\n",
       "      <th>IR</th>\n",
       "      <th>Oil</th>\n",
       "      <th>Coal</th>\n",
       "      <th>NG</th>\n",
       "      <th>USEU</th>\n",
       "      <th>S&amp;P_clean</th>\n",
       "      <th>DAX</th>\n",
       "      <th>EUA</th>\n",
       "      <th>Market_Size</th>\n",
       "      <th>Power</th>\n",
       "      <th>GDP</th>\n",
       "      <th>Date</th>\n",
       "    </tr>\n",
       "  </thead>\n",
       "  <tbody>\n",
       "    <tr>\n",
       "      <th>3567</th>\n",
       "      <td>2015-01-01</td>\n",
       "      <td>0.05</td>\n",
       "      <td>57.33</td>\n",
       "      <td>66.70</td>\n",
       "      <td>21.296</td>\n",
       "      <td>0.8261</td>\n",
       "      <td>624.64</td>\n",
       "      <td>9805.55</td>\n",
       "      <td>7.25</td>\n",
       "      <td>0.0</td>\n",
       "      <td>32.1</td>\n",
       "      <td>2921043.3</td>\n",
       "      <td>2015-01-01</td>\n",
       "    </tr>\n",
       "    <tr>\n",
       "      <th>3566</th>\n",
       "      <td>2015-01-02</td>\n",
       "      <td>0.05</td>\n",
       "      <td>56.42</td>\n",
       "      <td>65.55</td>\n",
       "      <td>20.448</td>\n",
       "      <td>0.8332</td>\n",
       "      <td>626.91</td>\n",
       "      <td>9764.73</td>\n",
       "      <td>7.01</td>\n",
       "      <td>280.4</td>\n",
       "      <td>32.1</td>\n",
       "      <td>2921043.3</td>\n",
       "      <td>2015-01-02</td>\n",
       "    </tr>\n",
       "    <tr>\n",
       "      <th>3565</th>\n",
       "      <td>2015-01-03</td>\n",
       "      <td>0.05</td>\n",
       "      <td>56.42</td>\n",
       "      <td>65.55</td>\n",
       "      <td>20.448</td>\n",
       "      <td>0.8332</td>\n",
       "      <td>626.91</td>\n",
       "      <td>9764.73</td>\n",
       "      <td>7.01</td>\n",
       "      <td>280.4</td>\n",
       "      <td>32.1</td>\n",
       "      <td>2921043.3</td>\n",
       "      <td>2015-01-03</td>\n",
       "    </tr>\n",
       "    <tr>\n",
       "      <th>3564</th>\n",
       "      <td>2015-01-04</td>\n",
       "      <td>0.05</td>\n",
       "      <td>56.42</td>\n",
       "      <td>65.55</td>\n",
       "      <td>20.448</td>\n",
       "      <td>0.8332</td>\n",
       "      <td>626.91</td>\n",
       "      <td>9764.73</td>\n",
       "      <td>7.01</td>\n",
       "      <td>280.4</td>\n",
       "      <td>32.1</td>\n",
       "      <td>2921043.3</td>\n",
       "      <td>2015-01-04</td>\n",
       "    </tr>\n",
       "    <tr>\n",
       "      <th>3563</th>\n",
       "      <td>2015-01-05</td>\n",
       "      <td>0.05</td>\n",
       "      <td>53.11</td>\n",
       "      <td>63.65</td>\n",
       "      <td>20.145</td>\n",
       "      <td>0.8380</td>\n",
       "      <td>615.40</td>\n",
       "      <td>9473.16</td>\n",
       "      <td>6.90</td>\n",
       "      <td>621.0</td>\n",
       "      <td>32.1</td>\n",
       "      <td>2921043.3</td>\n",
       "      <td>2015-01-05</td>\n",
       "    </tr>\n",
       "  </tbody>\n",
       "</table>\n",
       "</div>"
      ],
      "text/plain": [
       "           date    IR    Oil   Coal      NG    USEU  S&P_clean      DAX   EUA  \\\n",
       "3567 2015-01-01  0.05  57.33  66.70  21.296  0.8261     624.64  9805.55  7.25   \n",
       "3566 2015-01-02  0.05  56.42  65.55  20.448  0.8332     626.91  9764.73  7.01   \n",
       "3565 2015-01-03  0.05  56.42  65.55  20.448  0.8332     626.91  9764.73  7.01   \n",
       "3564 2015-01-04  0.05  56.42  65.55  20.448  0.8332     626.91  9764.73  7.01   \n",
       "3563 2015-01-05  0.05  53.11  63.65  20.145  0.8380     615.40  9473.16  6.90   \n",
       "\n",
       "      Market_Size  Power        GDP        Date  \n",
       "3567          0.0   32.1  2921043.3  2015-01-01  \n",
       "3566        280.4   32.1  2921043.3  2015-01-02  \n",
       "3565        280.4   32.1  2921043.3  2015-01-03  \n",
       "3564        280.4   32.1  2921043.3  2015-01-04  \n",
       "3563        621.0   32.1  2921043.3  2015-01-05  "
      ]
     },
     "execution_count": 3,
     "metadata": {},
     "output_type": "execute_result"
    }
   ],
   "source": [
    "df_all.head()"
   ]
  },
  {
   "cell_type": "code",
   "execution_count": 4,
   "metadata": {},
   "outputs": [],
   "source": [
    "scaler = MinMaxScaler((-1, 1))\n",
    "data_scaled = scaler.fit_transform(data)"
   ]
  },
  {
   "cell_type": "code",
   "execution_count": 5,
   "metadata": {},
   "outputs": [],
   "source": [
    "# 입력 시퀀스의 길이\n",
    "sequence_length = 20\n",
    "\n",
    "# 테스트 데이터는 최신 날짜부터 sequence_length + 100만큼 사용\n",
    "test_data_size = sequence_length + 1  # 테스트 데이터의 크기 설정 (예: sequence_length보다 100개 더 많게 설정)\n",
    "\n",
    "# 데이터를 최신 데이터 기준으로 슬라이싱\n",
    "test_data_scaled = data_scaled[-(test_data_size + 1):]  # 데이터의 마지막 부분을 테스트 데이터로 사용\n",
    "test_dates = dates[-(test_data_size + 1):]\n",
    "\n",
    "# 나머지를 학습 데이터로 설정 (앞부분을 학습 데이터로 사용)\n",
    "train_data_scaled = data_scaled[:-(test_data_size + 1)]\n",
    "train_dates = dates[:-(test_data_size + 1)]"
   ]
  },
  {
   "cell_type": "code",
   "execution_count": 6,
   "metadata": {},
   "outputs": [],
   "source": [
    "# 학습 데이터셋을 시퀀스 형태로 만들기 위한 함수\n",
    "def create_sequences(data, seq_length):\n",
    "    X = []\n",
    "    y = []\n",
    "    for i in range(len(data) - seq_length):\n",
    "        X.append(data[i:i + seq_length])  # seq_length 만큼의 입력 시퀀스\n",
    "        y.append(data[i + seq_length])  # 모든 변수 예측\n",
    "    return np.array(X), np.array(y)"
   ]
  },
  {
   "cell_type": "code",
   "execution_count": 7,
   "metadata": {},
   "outputs": [],
   "source": [
    "# 학습 데이터로 시퀀스 생성\n",
    "X_train, y_train = create_sequences(train_data_scaled, sequence_length)\n",
    "# 테스트 데이터로 시퀀스 생성\n",
    "X_test, y_test = create_sequences(test_data_scaled, sequence_length)"
   ]
  },
  {
   "cell_type": "code",
   "execution_count": 8,
   "metadata": {},
   "outputs": [
    {
     "name": "stderr",
     "output_type": "stream",
     "text": [
      "c:\\Users\\kangs\\AppData\\Local\\Programs\\Python\\Python311\\Lib\\site-packages\\keras\\src\\layers\\rnn\\rnn.py:204: UserWarning: Do not pass an `input_shape`/`input_dim` argument to a layer. When using Sequential models, prefer using an `Input(shape)` object as the first layer in the model instead.\n",
      "  super().__init__(**kwargs)\n"
     ]
    }
   ],
   "source": [
    "# LSTM 모델 구축\n",
    "model = Sequential()\n",
    "\n",
    "# 첫 번째 LSTM 레이어 + L2 정규화 + 배치 정규화\n",
    "model.add(LSTM(32, input_shape=(X_train.shape[1], X_train.shape[2]),  activation='tanh', recurrent_activation='sigmoid',\n",
    "               return_sequences=True,\n",
    "               kernel_regularizer=l2(0.001))) # L2 정규화 적용\n",
    "model.add(BatchNormalization()) # 배치 정규화 추가\n",
    "model.add(Dropout(0.3))\n",
    "\n",
    "# 두 번째 LSTM 레이어 + L2 정규화 + 배치 정규화 (512 유닛)\n",
    "model.add(LSTM(32, activation='tanh', recurrent_activation='sigmoid', return_sequences=True, kernel_regularizer=l2(0.001)))\n",
    "model.add(BatchNormalization()) # 배치 정규화\n",
    "model.add(Dropout(0.3))\n",
    "\n",
    "# 두 번째 LSTM 레이어 + L2 정규화 + 배치 정규화 (512 유닛)\n",
    "model.add(LSTM(32, activation='tanh', recurrent_activation='sigmoid', return_sequences=False, kernel_regularizer=l2(0.001)))\n",
    "model.add(BatchNormalization())\n",
    "\n",
    "# Dense 레이어 (출력은 11개, 배열 순서대로)\n",
    "model.add(Dense(11, activation='linear'))\n",
    "\n",
    "# 모델 컴파일\n",
    "model.compile(optimizer=Adam(learning_rate=0.0001), loss='mse')"
   ]
  },
  {
   "cell_type": "code",
   "execution_count": 9,
   "metadata": {},
   "outputs": [
    {
     "name": "stdout",
     "output_type": "stream",
     "text": [
      "모델 가중치를 성공적으로 로드했습니다.\n"
     ]
    },
    {
     "name": "stderr",
     "output_type": "stream",
     "text": [
      "c:\\Users\\kangs\\AppData\\Local\\Programs\\Python\\Python311\\Lib\\site-packages\\keras\\src\\saving\\saving_lib.py:713: UserWarning: Skipping variable loading for optimizer 'adam', because it has 2 variables whereas the saved optimizer has 36 variables. \n",
      "  saveable.load_own_variables(weights_store.get(inner_path))\n"
     ]
    }
   ],
   "source": [
    "# 모델 가중치 로드 시도 (존재하지 않으면 학습 시작)\n",
    "# 모델 저장 경로 설정\n",
    "checkpoint_path = \"./FromParis2015/best_model_61.keras\"\n",
    "try:\n",
    "    model.load_weights(checkpoint_path)  # load_weights로 변경\n",
    "    print(\"모델 가중치를 성공적으로 로드했습니다.\")\n",
    "except:\n",
    "    print(\"가중치를 찾을 수 없습니다. 모델을 처음부터 학습합니다.\")\n",
    "\n",
    "    # ModelCheckpoint 콜백 설정 (val_loss가 가장 낮을 때 모델 저장)\n",
    "    checkpoint = ModelCheckpoint(filepath=checkpoint_path,\n",
    "                                monitor='val_loss',  # val_loss를 기준으로 모니터링\n",
    "                                save_best_only=True,  # 가장 좋은 모델만 저장\n",
    "                                mode='min',  # val_loss가 작을수록 좋음\n",
    "                                verbose=1)\n",
    "\n",
    "    # EarlyStopping 콜백 설정 (val_loss가 patience번의 에포크 동안 개선되지 않으면 학습 중단)\n",
    "    early_stopping = EarlyStopping(monitor='val_loss', patience=10, restore_best_weights=True, verbose=1)\n",
    "\n",
    "    # 모델 학습 (300 에포크, 배치 사이즈 15, 2% 검증 데이터 사용)\n",
    "    history = model.fit(X_train, y_train, epochs=1000, batch_size=128, validation_split=0.05,\n",
    "                        verbose=1, callbacks=[checkpoint ,early_stopping]) #])  # early_stopping 추가\n",
    "\n",
    "    # 학습이 멈춘 에포크 확인\n",
    "    #if early_stopping.stopped_epoch > 0:\n",
    "    #    print(f\"Early stopping at epoch {early_stopping.stopped_epoch + 1}\")  # 중단된 에포크 출력\n",
    "    #else:\n",
    "    #    print(\"Early stopping was not triggered.\")\n"
   ]
  },
  {
   "cell_type": "code",
   "execution_count": 10,
   "metadata": {},
   "outputs": [
    {
     "ename": "NameError",
     "evalue": "name 'history' is not defined",
     "output_type": "error",
     "traceback": [
      "\u001b[1;31m---------------------------------------------------------------------------\u001b[0m",
      "\u001b[1;31mNameError\u001b[0m                                 Traceback (most recent call last)",
      "Cell \u001b[1;32mIn[10], line 1\u001b[0m\n\u001b[1;32m----> 1\u001b[0m plt\u001b[38;5;241m.\u001b[39mplot(\u001b[43mhistory\u001b[49m\u001b[38;5;241m.\u001b[39mhistory[\u001b[38;5;124m'\u001b[39m\u001b[38;5;124mloss\u001b[39m\u001b[38;5;124m'\u001b[39m], label\u001b[38;5;241m=\u001b[39m\u001b[38;5;124m'\u001b[39m\u001b[38;5;124mTraining loss\u001b[39m\u001b[38;5;124m'\u001b[39m)\n\u001b[0;32m      2\u001b[0m plt\u001b[38;5;241m.\u001b[39mplot(history\u001b[38;5;241m.\u001b[39mhistory[\u001b[38;5;124m'\u001b[39m\u001b[38;5;124mval_loss\u001b[39m\u001b[38;5;124m'\u001b[39m], label\u001b[38;5;241m=\u001b[39m\u001b[38;5;124m'\u001b[39m\u001b[38;5;124mValidation loss\u001b[39m\u001b[38;5;124m'\u001b[39m)\n\u001b[0;32m      3\u001b[0m plt\u001b[38;5;241m.\u001b[39mlegend()\n",
      "\u001b[1;31mNameError\u001b[0m: name 'history' is not defined"
     ]
    }
   ],
   "source": [
    "plt.plot(history.history['loss'], label='Training loss')\n",
    "plt.plot(history.history['val_loss'], label='Validation loss')\n",
    "plt.legend()\n",
    "plt.show()"
   ]
  },
  {
   "cell_type": "code",
   "execution_count": 11,
   "metadata": {},
   "outputs": [
    {
     "name": "stdout",
     "output_type": "stream",
     "text": [
      "\u001b[1m111/111\u001b[0m \u001b[32m━━━━━━━━━━━━━━━━━━━━\u001b[0m\u001b[37m\u001b[0m \u001b[1m1s\u001b[0m 7ms/step\n",
      "\u001b[1m1/1\u001b[0m \u001b[32m━━━━━━━━━━━━━━━━━━━━\u001b[0m\u001b[37m\u001b[0m \u001b[1m0s\u001b[0m 28ms/step\n"
     ]
    }
   ],
   "source": [
    "train_predictions = model.predict(X_train)\n",
    "train_predictions_rescaled = scaler.inverse_transform(train_predictions)\n",
    "\n",
    "test_predictions = model.predict(X_test)\n",
    "test_predictions_rescaled = scaler.inverse_transform(test_predictions)"
   ]
  },
  {
   "cell_type": "code",
   "execution_count": 12,
   "metadata": {},
   "outputs": [
    {
     "name": "stdout",
     "output_type": "stream",
     "text": [
      "\u001b[1m1/1\u001b[0m \u001b[32m━━━━━━━━━━━━━━━━━━━━\u001b[0m\u001b[37m\u001b[0m \u001b[1m0s\u001b[0m 30ms/step\n",
      "\u001b[1m1/1\u001b[0m \u001b[32m━━━━━━━━━━━━━━━━━━━━\u001b[0m\u001b[37m\u001b[0m \u001b[1m0s\u001b[0m 27ms/step\n",
      "\u001b[1m1/1\u001b[0m \u001b[32m━━━━━━━━━━━━━━━━━━━━\u001b[0m\u001b[37m\u001b[0m \u001b[1m0s\u001b[0m 29ms/step\n",
      "\u001b[1m1/1\u001b[0m \u001b[32m━━━━━━━━━━━━━━━━━━━━\u001b[0m\u001b[37m\u001b[0m \u001b[1m0s\u001b[0m 22ms/step\n",
      "\u001b[1m1/1\u001b[0m \u001b[32m━━━━━━━━━━━━━━━━━━━━\u001b[0m\u001b[37m\u001b[0m \u001b[1m0s\u001b[0m 28ms/step\n",
      "\u001b[1m1/1\u001b[0m \u001b[32m━━━━━━━━━━━━━━━━━━━━\u001b[0m\u001b[37m\u001b[0m \u001b[1m0s\u001b[0m 25ms/step\n",
      "\u001b[1m1/1\u001b[0m \u001b[32m━━━━━━━━━━━━━━━━━━━━\u001b[0m\u001b[37m\u001b[0m \u001b[1m0s\u001b[0m 22ms/step\n",
      "\u001b[1m1/1\u001b[0m \u001b[32m━━━━━━━━━━━━━━━━━━━━\u001b[0m\u001b[37m\u001b[0m \u001b[1m0s\u001b[0m 24ms/step\n",
      "\u001b[1m1/1\u001b[0m \u001b[32m━━━━━━━━━━━━━━━━━━━━\u001b[0m\u001b[37m\u001b[0m \u001b[1m0s\u001b[0m 27ms/step\n",
      "\u001b[1m1/1\u001b[0m \u001b[32m━━━━━━━━━━━━━━━━━━━━\u001b[0m\u001b[37m\u001b[0m \u001b[1m0s\u001b[0m 23ms/step\n",
      "\u001b[1m1/1\u001b[0m \u001b[32m━━━━━━━━━━━━━━━━━━━━\u001b[0m\u001b[37m\u001b[0m \u001b[1m0s\u001b[0m 23ms/step\n",
      "\u001b[1m1/1\u001b[0m \u001b[32m━━━━━━━━━━━━━━━━━━━━\u001b[0m\u001b[37m\u001b[0m \u001b[1m0s\u001b[0m 24ms/step\n",
      "\u001b[1m1/1\u001b[0m \u001b[32m━━━━━━━━━━━━━━━━━━━━\u001b[0m\u001b[37m\u001b[0m \u001b[1m0s\u001b[0m 23ms/step\n",
      "\u001b[1m1/1\u001b[0m \u001b[32m━━━━━━━━━━━━━━━━━━━━\u001b[0m\u001b[37m\u001b[0m \u001b[1m0s\u001b[0m 24ms/step\n",
      "\u001b[1m1/1\u001b[0m \u001b[32m━━━━━━━━━━━━━━━━━━━━\u001b[0m\u001b[37m\u001b[0m \u001b[1m0s\u001b[0m 22ms/step\n",
      "\u001b[1m1/1\u001b[0m \u001b[32m━━━━━━━━━━━━━━━━━━━━\u001b[0m\u001b[37m\u001b[0m \u001b[1m0s\u001b[0m 23ms/step\n",
      "\u001b[1m1/1\u001b[0m \u001b[32m━━━━━━━━━━━━━━━━━━━━\u001b[0m\u001b[37m\u001b[0m \u001b[1m0s\u001b[0m 27ms/step\n",
      "\u001b[1m1/1\u001b[0m \u001b[32m━━━━━━━━━━━━━━━━━━━━\u001b[0m\u001b[37m\u001b[0m \u001b[1m0s\u001b[0m 28ms/step\n",
      "\u001b[1m1/1\u001b[0m \u001b[32m━━━━━━━━━━━━━━━━━━━━\u001b[0m\u001b[37m\u001b[0m \u001b[1m0s\u001b[0m 23ms/step\n",
      "\u001b[1m1/1\u001b[0m \u001b[32m━━━━━━━━━━━━━━━━━━━━\u001b[0m\u001b[37m\u001b[0m \u001b[1m0s\u001b[0m 23ms/step\n",
      "\u001b[1m1/1\u001b[0m \u001b[32m━━━━━━━━━━━━━━━━━━━━\u001b[0m\u001b[37m\u001b[0m \u001b[1m0s\u001b[0m 22ms/step\n",
      "\u001b[1m1/1\u001b[0m \u001b[32m━━━━━━━━━━━━━━━━━━━━\u001b[0m\u001b[37m\u001b[0m \u001b[1m0s\u001b[0m 26ms/step\n",
      "\u001b[1m1/1\u001b[0m \u001b[32m━━━━━━━━━━━━━━━━━━━━\u001b[0m\u001b[37m\u001b[0m \u001b[1m0s\u001b[0m 24ms/step\n",
      "\u001b[1m1/1\u001b[0m \u001b[32m━━━━━━━━━━━━━━━━━━━━\u001b[0m\u001b[37m\u001b[0m \u001b[1m0s\u001b[0m 24ms/step\n",
      "\u001b[1m1/1\u001b[0m \u001b[32m━━━━━━━━━━━━━━━━━━━━\u001b[0m\u001b[37m\u001b[0m \u001b[1m0s\u001b[0m 23ms/step\n",
      "\u001b[1m1/1\u001b[0m \u001b[32m━━━━━━━━━━━━━━━━━━━━\u001b[0m\u001b[37m\u001b[0m \u001b[1m0s\u001b[0m 24ms/step\n",
      "\u001b[1m1/1\u001b[0m \u001b[32m━━━━━━━━━━━━━━━━━━━━\u001b[0m\u001b[37m\u001b[0m \u001b[1m0s\u001b[0m 24ms/step\n",
      "\u001b[1m1/1\u001b[0m \u001b[32m━━━━━━━━━━━━━━━━━━━━\u001b[0m\u001b[37m\u001b[0m \u001b[1m0s\u001b[0m 25ms/step\n",
      "\u001b[1m1/1\u001b[0m \u001b[32m━━━━━━━━━━━━━━━━━━━━\u001b[0m\u001b[37m\u001b[0m \u001b[1m0s\u001b[0m 25ms/step\n",
      "\u001b[1m1/1\u001b[0m \u001b[32m━━━━━━━━━━━━━━━━━━━━\u001b[0m\u001b[37m\u001b[0m \u001b[1m0s\u001b[0m 29ms/step\n",
      "\u001b[1m1/1\u001b[0m \u001b[32m━━━━━━━━━━━━━━━━━━━━\u001b[0m\u001b[37m\u001b[0m \u001b[1m0s\u001b[0m 25ms/step\n",
      "\u001b[1m1/1\u001b[0m \u001b[32m━━━━━━━━━━━━━━━━━━━━\u001b[0m\u001b[37m\u001b[0m \u001b[1m0s\u001b[0m 23ms/step\n",
      "\u001b[1m1/1\u001b[0m \u001b[32m━━━━━━━━━━━━━━━━━━━━\u001b[0m\u001b[37m\u001b[0m \u001b[1m0s\u001b[0m 24ms/step\n",
      "\u001b[1m1/1\u001b[0m \u001b[32m━━━━━━━━━━━━━━━━━━━━\u001b[0m\u001b[37m\u001b[0m \u001b[1m0s\u001b[0m 22ms/step\n",
      "\u001b[1m1/1\u001b[0m \u001b[32m━━━━━━━━━━━━━━━━━━━━\u001b[0m\u001b[37m\u001b[0m \u001b[1m0s\u001b[0m 22ms/step\n",
      "\u001b[1m1/1\u001b[0m \u001b[32m━━━━━━━━━━━━━━━━━━━━\u001b[0m\u001b[37m\u001b[0m \u001b[1m0s\u001b[0m 21ms/step\n",
      "\u001b[1m1/1\u001b[0m \u001b[32m━━━━━━━━━━━━━━━━━━━━\u001b[0m\u001b[37m\u001b[0m \u001b[1m0s\u001b[0m 24ms/step\n",
      "\u001b[1m1/1\u001b[0m \u001b[32m━━━━━━━━━━━━━━━━━━━━\u001b[0m\u001b[37m\u001b[0m \u001b[1m0s\u001b[0m 24ms/step\n",
      "\u001b[1m1/1\u001b[0m \u001b[32m━━━━━━━━━━━━━━━━━━━━\u001b[0m\u001b[37m\u001b[0m \u001b[1m0s\u001b[0m 22ms/step\n",
      "\u001b[1m1/1\u001b[0m \u001b[32m━━━━━━━━━━━━━━━━━━━━\u001b[0m\u001b[37m\u001b[0m \u001b[1m0s\u001b[0m 23ms/step\n",
      "\u001b[1m1/1\u001b[0m \u001b[32m━━━━━━━━━━━━━━━━━━━━\u001b[0m\u001b[37m\u001b[0m \u001b[1m0s\u001b[0m 26ms/step\n",
      "\u001b[1m1/1\u001b[0m \u001b[32m━━━━━━━━━━━━━━━━━━━━\u001b[0m\u001b[37m\u001b[0m \u001b[1m0s\u001b[0m 22ms/step\n",
      "\u001b[1m1/1\u001b[0m \u001b[32m━━━━━━━━━━━━━━━━━━━━\u001b[0m\u001b[37m\u001b[0m \u001b[1m0s\u001b[0m 22ms/step\n",
      "\u001b[1m1/1\u001b[0m \u001b[32m━━━━━━━━━━━━━━━━━━━━\u001b[0m\u001b[37m\u001b[0m \u001b[1m0s\u001b[0m 20ms/step\n",
      "\u001b[1m1/1\u001b[0m \u001b[32m━━━━━━━━━━━━━━━━━━━━\u001b[0m\u001b[37m\u001b[0m \u001b[1m0s\u001b[0m 23ms/step\n",
      "\u001b[1m1/1\u001b[0m \u001b[32m━━━━━━━━━━━━━━━━━━━━\u001b[0m\u001b[37m\u001b[0m \u001b[1m0s\u001b[0m 23ms/step\n",
      "\u001b[1m1/1\u001b[0m \u001b[32m━━━━━━━━━━━━━━━━━━━━\u001b[0m\u001b[37m\u001b[0m \u001b[1m0s\u001b[0m 21ms/step\n",
      "\u001b[1m1/1\u001b[0m \u001b[32m━━━━━━━━━━━━━━━━━━━━\u001b[0m\u001b[37m\u001b[0m \u001b[1m0s\u001b[0m 23ms/step\n",
      "\u001b[1m1/1\u001b[0m \u001b[32m━━━━━━━━━━━━━━━━━━━━\u001b[0m\u001b[37m\u001b[0m \u001b[1m0s\u001b[0m 23ms/step\n",
      "\u001b[1m1/1\u001b[0m \u001b[32m━━━━━━━━━━━━━━━━━━━━\u001b[0m\u001b[37m\u001b[0m \u001b[1m0s\u001b[0m 23ms/step\n",
      "\u001b[1m1/1\u001b[0m \u001b[32m━━━━━━━━━━━━━━━━━━━━\u001b[0m\u001b[37m\u001b[0m \u001b[1m0s\u001b[0m 23ms/step\n",
      "\u001b[1m1/1\u001b[0m \u001b[32m━━━━━━━━━━━━━━━━━━━━\u001b[0m\u001b[37m\u001b[0m \u001b[1m0s\u001b[0m 24ms/step\n",
      "\u001b[1m1/1\u001b[0m \u001b[32m━━━━━━━━━━━━━━━━━━━━\u001b[0m\u001b[37m\u001b[0m \u001b[1m0s\u001b[0m 24ms/step\n",
      "\u001b[1m1/1\u001b[0m \u001b[32m━━━━━━━━━━━━━━━━━━━━\u001b[0m\u001b[37m\u001b[0m \u001b[1m0s\u001b[0m 24ms/step\n",
      "\u001b[1m1/1\u001b[0m \u001b[32m━━━━━━━━━━━━━━━━━━━━\u001b[0m\u001b[37m\u001b[0m \u001b[1m0s\u001b[0m 25ms/step\n",
      "\u001b[1m1/1\u001b[0m \u001b[32m━━━━━━━━━━━━━━━━━━━━\u001b[0m\u001b[37m\u001b[0m \u001b[1m0s\u001b[0m 23ms/step\n",
      "\u001b[1m1/1\u001b[0m \u001b[32m━━━━━━━━━━━━━━━━━━━━\u001b[0m\u001b[37m\u001b[0m \u001b[1m0s\u001b[0m 31ms/step\n",
      "\u001b[1m1/1\u001b[0m \u001b[32m━━━━━━━━━━━━━━━━━━━━\u001b[0m\u001b[37m\u001b[0m \u001b[1m0s\u001b[0m 29ms/step\n",
      "\u001b[1m1/1\u001b[0m \u001b[32m━━━━━━━━━━━━━━━━━━━━\u001b[0m\u001b[37m\u001b[0m \u001b[1m0s\u001b[0m 24ms/step\n",
      "\u001b[1m1/1\u001b[0m \u001b[32m━━━━━━━━━━━━━━━━━━━━\u001b[0m\u001b[37m\u001b[0m \u001b[1m0s\u001b[0m 24ms/step\n"
     ]
    }
   ],
   "source": [
    "num_of_prediction = 30*2\n",
    "future_predictions = []\n",
    "\n",
    "current_input = test_data_scaled[-sequence_length:, :]\n",
    "\n",
    "for i in range(num_of_prediction):\n",
    "# LSTM 모델에 맞게 3차원 입력으로 변환, (배치 크기, 시퀀스 길이, 변수 개수)\n",
    "    current_input_scaled = np.reshape(current_input, (1, sequence_length, current_input.shape[1]))\n",
    "    # 다음 시점 예측\n",
    "    next_prediction = model.predict(current_input_scaled)\n",
    "\n",
    "    # 예측된 모든 변수를 저장\n",
    "    future_predictions.append(next_prediction[0])  # 11개 변수 예측 결과를 저장\n",
    "    \n",
    "    # 새로운 입력을 업데이트 (슬라이딩 윈도우 방식)\n",
    "    current_input = np.concatenate([current_input[1:], [next_prediction[0]]], axis=0)"
   ]
  },
  {
   "cell_type": "code",
   "execution_count": 13,
   "metadata": {},
   "outputs": [],
   "source": [
    "# 각 예측 시 11개 변수를 모두 포함하고 있으므로, 동일한 스케일링 방법을 사용\n",
    "future_predictions_original = scaler.inverse_transform(future_predictions)\n",
    "\n",
    "# 미래 날짜 생성\n",
    "future_dates = [pd.to_datetime(test_dates[-1]) + pd.DateOffset(days=i + 1) for i in range(num_of_prediction)]"
   ]
  },
  {
   "cell_type": "code",
   "execution_count": 14,
   "metadata": {},
   "outputs": [
    {
     "name": "stderr",
     "output_type": "stream",
     "text": [
      "C:\\Users\\kangs\\AppData\\Local\\Temp\\ipykernel_9092\\2627061273.py:7: UserWarning: marker is redundantly defined by the 'marker' keyword argument and the fmt string \"g.\" (-> marker='.'). The keyword argument will take precedence.\n",
      "  plt.plot(train_dates[-train_predictions_rescaled.shape[0]:], train_predictions_rescaled[:, 0], 'g.', marker='.', markersize=2, label='Train Predicted EUA Price')\n"
     ]
    },
    {
     "data": {
      "image/png": "[encoded data removed]",
      "text/plain": [
       "<Figure size 1000x600 with 1 Axes>"
      ]
     },
     "metadata": {},
     "output_type": "display_data"
    }
   ],
   "source": [
    "plt.figure(figsize=(10, 6))\n",
    "plt.plot(dates, original_EUA, 'b', label='Historical EUA Price')  # 원본 EUA 데이터\n",
    "plt.plot(test_dates, scaler.inverse_transform(test_data_scaled)[:, 0], 'skyblue', label='Test EUA Price')  # 테스트 데이터\n",
    "plt.plot(future_dates, future_predictions_original[:, 0], 'r--', label='Predicted EUA Price')\n",
    "\n",
    "# 학습 데이터 예측값\n",
    "plt.plot(train_dates[-train_predictions_rescaled.shape[0]:], train_predictions_rescaled[:, 0], 'g.', marker='.', markersize=2, label='Train Predicted EUA Price')\n",
    "# 테스트 데이터 예측값\n",
    "plt.plot(test_dates[-test_predictions_rescaled.shape[0]:], test_predictions_rescaled[:, 0], 'orange', marker='.', markersize=2, label='Test Predicted EUA Price')\n",
    "\n",
    "\n",
    "plt.xlabel('Date')\n",
    "plt.ylabel('EUA Price')\n",
    "plt.title('EUA Price Prediction for the Next 24 Months')\n",
    "plt.legend()\n",
    "plt.show()"
   ]
  },
  {
   "cell_type": "code",
   "execution_count": null,
   "metadata": {},
   "outputs": [],
   "source": []
  },
  {
   "cell_type": "code",
   "execution_count": null,
   "metadata": {},
   "outputs": [],
   "source": []
  }
 ],
 "metadata": {
  "kernelspec": {
   "display_name": "Python 3",
   "language": "python",
   "name": "python3"
  },
  "language_info": {
   "codemirror_mode": {
    "name": "ipython",
    "version": 3
   },
   "file_extension": ".py",
   "mimetype": "text/x-python",
   "name": "python",
   "nbconvert_exporter": "python",
   "pygments_lexer": "ipython3",
   "version": "3.11.4"
  }
 },
 "nbformat": 4,
 "nbformat_minor": 2
}
